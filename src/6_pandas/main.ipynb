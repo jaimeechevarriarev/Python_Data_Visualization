{
 "cells": [
  {
   "cell_type": "markdown",
   "metadata": {},
   "source": [
    "# Charting a Pandas Dataframe"
   ]
  },
  {
   "cell_type": "markdown",
   "metadata": {},
   "source": [
    "## Task\n",
    "You are tasked by prof Oak to create a bar chart of the top 10 legendary Pokemon by special attack."
   ]
  },
  {
   "cell_type": "code",
   "execution_count": null,
   "metadata": {},
   "outputs": [],
   "source": [
    "import numpy as np\n",
    "import matplotlib.pyplot as plt\n",
    "import pandas as pd"
   ]
  },
  {
   "cell_type": "code",
   "execution_count": null,
   "metadata": {},
   "outputs": [],
   "source": [
    "# Read file\n",
    "pokemon = pd.read_csv(r'../../resources/data/Pokemon.csv')\n",
    "pokemon.head()"
   ]
  },
  {
   "cell_type": "code",
   "execution_count": null,
   "metadata": {},
   "outputs": [],
   "source": [
    "# Build dataframe with top 10 legendary Pokemon\n",
    "legendary = pokemon.loc[pokemon['Legendary'] == True].sort_values(by=\"Sp. Atk\", ascending=False).head(10)\n",
    "legendary.head()"
   ]
  },
  {
   "cell_type": "code",
   "execution_count": null,
   "metadata": {},
   "outputs": [],
   "source": [
    "# Set x-axis and tick locations\n",
    "x_axis = np.arange(len(legendary))\n",
    "tick_locations = [value for value in x_axis]\n",
    "\n",
    "# Build plot\n",
    "plt.xlabel('Pokemon')\n",
    "plt.ylabel('Sp. Atk')\n",
    "plt.title('Top 10 Legendary Pokemon by Sp. Atk')\n",
    "plt.bar(x_axis, legendary['Sp. Atk'], align='center')\n",
    "plt.xticks(tick_locations, legendary['Name'], rotation=90)\n",
    "plt.show()"
   ]
  },
  {
   "cell_type": "markdown",
   "metadata": {},
   "source": [
    "## Task\n",
    "Now professor Birch asks you to create a pie chart of the type 1 for all Pokemon in generation 2."
   ]
  },
  {
   "cell_type": "code",
   "execution_count": null,
   "metadata": {},
   "outputs": [],
   "source": [
    "# Build dataframe with all type 1 pokemon in generation 2 \n",
    "genTwoType = pokemon.loc[pokemon['Generation'] == 2].groupby(by=['Type 1'])['Type 1'].count().reset_index(name='Count')\n",
    "genTwoType.head()"
   ]
  },
  {
   "cell_type": "code",
   "execution_count": null,
   "metadata": {},
   "outputs": [],
   "source": [
    "# Create pie chart \n",
    "plt.title('Count of Gen 2 Pokemon by Type 1')\n",
    "plt.pie(genTwoType['Count'], labels=genTwoType['Type 1'], shadow=True, autopct='%.f', startangle=90)\n",
    "plt.axis('equal')\n",
    "plt.show()"
   ]
  }
 ],
 "metadata": {
  "kernelspec": {
   "display_name": "base",
   "language": "python",
   "name": "python3"
  },
  "language_info": {
   "codemirror_mode": {
    "name": "ipython",
    "version": 3
   },
   "file_extension": ".py",
   "mimetype": "text/x-python",
   "name": "python",
   "nbconvert_exporter": "python",
   "pygments_lexer": "ipython3",
   "version": "3.11.3"
  }
 },
 "nbformat": 4,
 "nbformat_minor": 2
}
