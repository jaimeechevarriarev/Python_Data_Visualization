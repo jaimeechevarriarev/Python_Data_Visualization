{
 "cells": [
  {
   "cell_type": "markdown",
   "metadata": {},
   "source": [
    "# Box Plot"
   ]
  },
  {
   "cell_type": "markdown",
   "metadata": {},
   "source": [
    "## What is a box plot?\n",
    "It's a graphical representation of the statistical distribution of data.\n",
    "\n",
    "Some definitions:\n",
    "- Minimum: lowest boundary, excluding outliers\n",
    "- Q1 (first quartile): 25% of the data falls below this value\n",
    "- Median: Middle value of the data set\n",
    "- Q3 (third quartile): 75% of the data falls below this value\n",
    "- Maximum: highest boundary, excluding outliers\n",
    "- Whiskers: represent data points outside the middle 50% of data (outside of the box)\n",
    "- IQR (Interquartile range): data points between Q1 and Q3 (50% of data)\n",
    "- Outlier: data point that lines outside of the minimum and maximum, defined as (Q1-1.5\\*IQR) or (Q3+1.5\\*IQR)\n",
    "\n",
    "More here: [https://en.wikipedia.org/wiki/Box_plot](https://en.wikipedia.org/wiki/Box_plot)"
   ]
  },
  {
   "cell_type": "markdown",
   "metadata": {},
   "source": [
    "![Alt text](../../resources/images/image_1.png)"
   ]
  },
  {
   "cell_type": "markdown",
   "metadata": {},
   "source": [
    "## Task\n",
    "We are tasked to create box plots for all Pokemon stats in one graph."
   ]
  },
  {
   "cell_type": "code",
   "execution_count": null,
   "metadata": {},
   "outputs": [],
   "source": [
    "import pandas as pd \n",
    "import numpy as np \n",
    "import matplotlib.pyplot as plt"
   ]
  },
  {
   "cell_type": "code",
   "execution_count": null,
   "metadata": {},
   "outputs": [],
   "source": [
    "df = pd.read_csv(r'../../resources/data/Pokemon.csv')\n",
    "df.head()"
   ]
  },
  {
   "cell_type": "code",
   "execution_count": null,
   "metadata": {},
   "outputs": [],
   "source": [
    "# Generate list of columns \n",
    "labels = list(df.columns)[5:11]\n",
    "print(labels)\n",
    "\n",
    "# Get data lists to create boxplots boxplots\n",
    "data = [df[stat] for stat in labels]\n"
   ]
  },
  {
   "cell_type": "code",
   "execution_count": null,
   "metadata": {},
   "outputs": [],
   "source": [
    "# Use the pandas describe method to review the data\n",
    "df[labels].describe()"
   ]
  },
  {
   "cell_type": "code",
   "execution_count": null,
   "metadata": {},
   "outputs": [],
   "source": [
    "# Create plot\n",
    "plt.title('Pokemon Stats Box Plots')\n",
    "plt.boxplot(data, labels=labels)\n",
    "\n",
    "plt.show()"
   ]
  }
 ],
 "metadata": {
  "kernelspec": {
   "display_name": "base",
   "language": "python",
   "name": "python3"
  },
  "language_info": {
   "codemirror_mode": {
    "name": "ipython",
    "version": 3
   },
   "file_extension": ".py",
   "mimetype": "text/x-python",
   "name": "python",
   "nbconvert_exporter": "python",
   "pygments_lexer": "ipython3",
   "version": "3.11.3"
  }
 },
 "nbformat": 4,
 "nbformat_minor": 2
}
