{
 "cells": [
  {
   "cell_type": "markdown",
   "metadata": {},
   "source": [
    "# Line Plot"
   ]
  },
  {
   "cell_type": "markdown",
   "metadata": {},
   "source": [
    "## Task\n",
    "We will create a line plot of a sine function."
   ]
  },
  {
   "cell_type": "code",
   "execution_count": null,
   "metadata": {},
   "outputs": [],
   "source": [
    "import numpy as np \n",
    "import matplotlib.pyplot as plt"
   ]
  },
  {
   "cell_type": "code",
   "execution_count": null,
   "metadata": {},
   "outputs": [],
   "source": [
    "# Data set \n",
    "x_lim = 2 * np.pi \n",
    "x_axis = np.arange(0, x_lim, 0.1)\n",
    "sine = np.sin(x_axis)\n",
    "hlines = np.arange(-1, 1.1, 0.5)\n",
    "vlines = np.arange(0, x_lim, np.pi / 4)"
   ]
  },
  {
   "cell_type": "code",
   "execution_count": null,
   "metadata": {},
   "outputs": [],
   "source": [
    "# View data \n",
    "print(x_lim)\n",
    "print(x_axis)\n",
    "print(sine)"
   ]
  },
  {
   "cell_type": "code",
   "execution_count": null,
   "metadata": {},
   "outputs": [],
   "source": [
    "# Create plot\n",
    "plt.title('Sine function from 0 to 2$\\pi$')\n",
    "plt.xlabel('Value of x')\n",
    "plt.ylabel('sin(x)')\n",
    "\n",
    "plt.hlines(hlines, 0, x_lim, alpha=0.2)\n",
    "plt.vlines(vlines, -x_lim, np.pi * 2, alpha=0.2)\n",
    "plt.xlim(0, x_lim)\n",
    "plt.ylim(-1.25, 1.25)\n",
    "\n",
    "plt.plot(x_axis, sine, linewidth=1)\n",
    "plt.show()"
   ]
  }
 ],
 "metadata": {
  "kernelspec": {
   "display_name": "base",
   "language": "python",
   "name": "python3"
  },
  "language_info": {
   "codemirror_mode": {
    "name": "ipython",
    "version": 3
   },
   "file_extension": ".py",
   "mimetype": "text/x-python",
   "name": "python",
   "nbconvert_exporter": "python",
   "pygments_lexer": "ipython3",
   "version": "3.11.3"
  }
 },
 "nbformat": 4,
 "nbformat_minor": 2
}
